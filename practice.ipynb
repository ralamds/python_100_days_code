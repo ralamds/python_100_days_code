{
 "cells": [
  {
   "cell_type": "code",
   "execution_count": 1,
   "id": "9753063b",
   "metadata": {},
   "outputs": [],
   "source": [
    "import random "
   ]
  },
  {
   "cell_type": "code",
   "execution_count": 33,
   "id": "8f6a902f",
   "metadata": {},
   "outputs": [],
   "source": [
    "letters = ['a', 'b', 'c', 'd', 'e', 'f', 'g', 'h', 'i', 'j', 'k', 'l', 'm', 'n', 'o', 'p', 'q', 'r', 's', 't', 'u', 'v', 'w', 'x', 'y', 'z', 'A', 'B', 'C', 'D', 'E', 'F', 'G', 'H', 'I', 'J', 'K', 'L', 'M', 'N', 'O', 'P', 'Q', 'R', 'S', 'T', 'U', 'V', 'W', 'X', 'Y', 'Z']\n",
    "numbers = ['0', '1', '2', '3', '4', '5', '6', '7', '8', '9']\n",
    "symbols = ['!', '#', '$', '%', '&', '(', ')', '*', '+']"
   ]
  },
  {
   "cell_type": "code",
   "execution_count": 34,
   "id": "5d9adb00",
   "metadata": {},
   "outputs": [
    {
     "name": "stdout",
     "output_type": "stream",
     "text": [
      "How many letters would you like in your password?\n",
      "3\n",
      "How many symbols would you like?\n",
      "2\n",
      "How many numbers would you like?\n",
      "1\n"
     ]
    }
   ],
   "source": [
    "nr_letters= int(input(\"How many letters would you like in your password?\\n\")) \n",
    "nr_numbers = int(input(f\"How many numbers would you like?\\n\"))\n",
    "nr_symbols = int(input(f\"How many symbols would you like?\\n\"))"
   ]
  },
  {
   "cell_type": "code",
   "execution_count": 35,
   "id": "4b7cefb6",
   "metadata": {},
   "outputs": [],
   "source": [
    "sample_lett = random.sample(range(len(letters)), nr_letters)\n",
    "sample_numb = random.sample(range(len(numbers)), nr_numbers)\n",
    "sample_symb = random.sample(range(len(symbols)), nr_symbols)"
   ]
  },
  {
   "cell_type": "code",
   "execution_count": 36,
   "id": "9006887c",
   "metadata": {},
   "outputs": [],
   "source": [
    "letters_pass =\"\"\n",
    "for i in sample_lett: \n",
    "    letters_pass += letters[i]\n",
    "\n",
    "numbers_pass = \"\"\n",
    "for j in sample_numb: \n",
    "    numbers_pass += numbers[j]\n",
    "\n",
    "symbols_pass = \"\"\n",
    "for k in sample_symb: \n",
    "    symbols_pass += symbols[k]"
   ]
  },
  {
   "cell_type": "code",
   "execution_count": 37,
   "id": "9cab1487",
   "metadata": {},
   "outputs": [
    {
     "name": "stdout",
     "output_type": "stream",
     "text": [
      "Your password is eyV3)%\n"
     ]
    }
   ],
   "source": [
    "final_pass = letters_pass + numbers_pass + symbols_pass\n",
    "\n",
    "print(f\"Your password is {final_pass}\")\n"
   ]
  },
  {
   "cell_type": "code",
   "execution_count": 51,
   "id": "39db0754",
   "metadata": {},
   "outputs": [
    {
     "data": {
      "text/plain": [
       "['e', 'y', 'V', '3', ')', '%']"
      ]
     },
     "execution_count": 51,
     "metadata": {},
     "output_type": "execute_result"
    }
   ],
   "source": [
    "a = list(final_pass)\n",
    "a\n"
   ]
  },
  {
   "cell_type": "code",
   "execution_count": 57,
   "id": "ac8431f3",
   "metadata": {},
   "outputs": [
    {
     "data": {
      "text/plain": [
       "['e', '%', 'V', '3', 'y', ')']"
      ]
     },
     "execution_count": 57,
     "metadata": {},
     "output_type": "execute_result"
    }
   ],
   "source": [
    "random.sample(a, len(a))"
   ]
  },
  {
   "cell_type": "code",
   "execution_count": null,
   "id": "58d4ae7d",
   "metadata": {},
   "outputs": [],
   "source": []
  },
  {
   "cell_type": "code",
   "execution_count": null,
   "id": "660f4e56",
   "metadata": {},
   "outputs": [],
   "source": []
  }
 ],
 "metadata": {
  "kernelspec": {
   "display_name": "Python 3 (ipykernel)",
   "language": "python",
   "name": "python3"
  },
  "language_info": {
   "codemirror_mode": {
    "name": "ipython",
    "version": 3
   },
   "file_extension": ".py",
   "mimetype": "text/x-python",
   "name": "python",
   "nbconvert_exporter": "python",
   "pygments_lexer": "ipython3",
   "version": "3.11.2"
  }
 },
 "nbformat": 4,
 "nbformat_minor": 5
}
